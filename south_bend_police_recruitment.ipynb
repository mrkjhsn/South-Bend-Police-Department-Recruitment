{
 "cells": [
  {
   "cell_type": "code",
   "execution_count": 2,
   "metadata": {},
   "outputs": [],
   "source": [
    "import pandas as pd\n",
    "import numpy as np"
   ]
  },
  {
   "cell_type": "code",
   "execution_count": 3,
   "metadata": {},
   "outputs": [],
   "source": [
    "df = pd.read_csv('SBPD_Recruitment_Data.csv')"
   ]
  },
  {
   "cell_type": "code",
   "execution_count": 3,
   "metadata": {},
   "outputs": [
    {
     "data": {
      "text/html": [
       "<div>\n",
       "<style scoped>\n",
       "    .dataframe tbody tr th:only-of-type {\n",
       "        vertical-align: middle;\n",
       "    }\n",
       "\n",
       "    .dataframe tbody tr th {\n",
       "        vertical-align: top;\n",
       "    }\n",
       "\n",
       "    .dataframe thead th {\n",
       "        text-align: right;\n",
       "    }\n",
       "</style>\n",
       "<table border=\"1\" class=\"dataframe\">\n",
       "  <thead>\n",
       "    <tr style=\"text-align: right;\">\n",
       "      <th></th>\n",
       "      <th>Applicant_ID</th>\n",
       "      <th>Applicant_City</th>\n",
       "      <th>Applicant_State__Region</th>\n",
       "      <th>Applicant_Zip_Postal_Code</th>\n",
       "      <th>Position_Title</th>\n",
       "      <th>Req_Number</th>\n",
       "      <th>Location</th>\n",
       "      <th>Division</th>\n",
       "      <th>Applicant_Status</th>\n",
       "      <th>Last_Hiring_Stage</th>\n",
       "      <th>Source</th>\n",
       "      <th>Applicant_Apply_Method</th>\n",
       "      <th>Entry_Date</th>\n",
       "      <th>Ethnicity</th>\n",
       "      <th>Gender</th>\n",
       "      <th>EEO_Veteran_Status__Pre_Offer_</th>\n",
       "      <th>Cycle</th>\n",
       "      <th>ObjectId</th>\n",
       "    </tr>\n",
       "  </thead>\n",
       "  <tbody>\n",
       "    <tr>\n",
       "      <th>0</th>\n",
       "      <td>63217447</td>\n",
       "      <td>Mill Creek</td>\n",
       "      <td>IN</td>\n",
       "      <td>46365</td>\n",
       "      <td>Police Officer Recruit</td>\n",
       "      <td>PUB-18-00005</td>\n",
       "      <td>South Bend Police Department</td>\n",
       "      <td>Police</td>\n",
       "      <td>AP - Incomplete</td>\n",
       "      <td>Disqualified/Withdrew/Incomplete</td>\n",
       "      <td>Word of Mouth</td>\n",
       "      <td>Mobile</td>\n",
       "      <td>2018-10-29T23:43:00.000Z</td>\n",
       "      <td>White (Not Hispanic or Latino)</td>\n",
       "      <td>Male</td>\n",
       "      <td>I IDENTIFY AS ONE OR MORE OF THE CLASSIFICATIO...</td>\n",
       "      <td>Summer 2019</td>\n",
       "      <td>1</td>\n",
       "    </tr>\n",
       "    <tr>\n",
       "      <th>1</th>\n",
       "      <td>51041583</td>\n",
       "      <td>Walkerton</td>\n",
       "      <td>IN</td>\n",
       "      <td>46574</td>\n",
       "      <td>Police Officer Recruit</td>\n",
       "      <td>PUB-17-00002</td>\n",
       "      <td>South Bend Police Department</td>\n",
       "      <td>Police</td>\n",
       "      <td>Hired</td>\n",
       "      <td>Passed Polygraph, Medical, Psych, and Hired</td>\n",
       "      <td>Job/Career Fair</td>\n",
       "      <td>Web</td>\n",
       "      <td>2017-05-08T15:05:00.000Z</td>\n",
       "      <td>White (Not Hispanic or Latino)</td>\n",
       "      <td>Male</td>\n",
       "      <td>I IDENTIFY AS ONE OR MORE OF THE CLASSIFICATIO...</td>\n",
       "      <td>Fall 2017</td>\n",
       "      <td>2</td>\n",
       "    </tr>\n",
       "    <tr>\n",
       "      <th>2</th>\n",
       "      <td>63244731</td>\n",
       "      <td>Bedford</td>\n",
       "      <td>IN</td>\n",
       "      <td>47421</td>\n",
       "      <td>Police Officer Recruit</td>\n",
       "      <td>PUB-18-00005</td>\n",
       "      <td>South Bend Police Department</td>\n",
       "      <td>Police</td>\n",
       "      <td>AP - Incomplete</td>\n",
       "      <td>Disqualified/Withdrew/Incomplete</td>\n",
       "      <td>Other</td>\n",
       "      <td>Web</td>\n",
       "      <td>2018-10-31T06:36:00.000Z</td>\n",
       "      <td>White (Not Hispanic or Latino)</td>\n",
       "      <td>Male</td>\n",
       "      <td>I IDENTIFY AS ONE OR MORE OF THE CLASSIFICATIO...</td>\n",
       "      <td>Summer 2019</td>\n",
       "      <td>3</td>\n",
       "    </tr>\n",
       "    <tr>\n",
       "      <th>3</th>\n",
       "      <td>63326694</td>\n",
       "      <td>Mishawaka</td>\n",
       "      <td>IN</td>\n",
       "      <td>46544</td>\n",
       "      <td>Police Officer Recruit</td>\n",
       "      <td>PUB-18-00005</td>\n",
       "      <td>South Bend Police Department</td>\n",
       "      <td>Police</td>\n",
       "      <td>AP - Incomplete</td>\n",
       "      <td>Disqualified/Withdrew/Incomplete</td>\n",
       "      <td>Company Website</td>\n",
       "      <td>Web</td>\n",
       "      <td>2018-11-05T13:28:00.000Z</td>\n",
       "      <td>White (Not Hispanic or Latino)</td>\n",
       "      <td>Male</td>\n",
       "      <td>I IDENTIFY AS ONE OR MORE OF THE CLASSIFICATIO...</td>\n",
       "      <td>Summer 2019</td>\n",
       "      <td>4</td>\n",
       "    </tr>\n",
       "    <tr>\n",
       "      <th>4</th>\n",
       "      <td>50555166</td>\n",
       "      <td>Niles</td>\n",
       "      <td>MI</td>\n",
       "      <td>49120</td>\n",
       "      <td>Police Officer Recruit</td>\n",
       "      <td>PUB-18-00005</td>\n",
       "      <td>South Bend Police Department</td>\n",
       "      <td>Police</td>\n",
       "      <td>AP - Incomplete</td>\n",
       "      <td>Disqualified/Withdrew/Incomplete</td>\n",
       "      <td>Internet/Job Board</td>\n",
       "      <td>Mobile</td>\n",
       "      <td>2018-11-06T14:00:00.000Z</td>\n",
       "      <td>Black or African American (Not Hispanic or Lat...</td>\n",
       "      <td>Male</td>\n",
       "      <td>I IDENTIFY AS ONE OR MORE OF THE CLASSIFICATIO...</td>\n",
       "      <td>Summer 2019</td>\n",
       "      <td>5</td>\n",
       "    </tr>\n",
       "  </tbody>\n",
       "</table>\n",
       "</div>"
      ],
      "text/plain": [
       "   Applicant_ID Applicant_City Applicant_State__Region  \\\n",
       "0      63217447     Mill Creek                      IN   \n",
       "1      51041583      Walkerton                      IN   \n",
       "2      63244731        Bedford                      IN   \n",
       "3      63326694      Mishawaka                      IN   \n",
       "4      50555166          Niles                      MI   \n",
       "\n",
       "  Applicant_Zip_Postal_Code          Position_Title    Req_Number  \\\n",
       "0                     46365  Police Officer Recruit  PUB-18-00005   \n",
       "1                     46574  Police Officer Recruit  PUB-17-00002   \n",
       "2                     47421  Police Officer Recruit  PUB-18-00005   \n",
       "3                     46544  Police Officer Recruit  PUB-18-00005   \n",
       "4                     49120  Police Officer Recruit  PUB-18-00005   \n",
       "\n",
       "                       Location Division Applicant_Status  \\\n",
       "0  South Bend Police Department   Police  AP - Incomplete   \n",
       "1  South Bend Police Department   Police            Hired   \n",
       "2  South Bend Police Department   Police  AP - Incomplete   \n",
       "3  South Bend Police Department   Police  AP - Incomplete   \n",
       "4  South Bend Police Department   Police  AP - Incomplete   \n",
       "\n",
       "                             Last_Hiring_Stage              Source  \\\n",
       "0             Disqualified/Withdrew/Incomplete       Word of Mouth   \n",
       "1  Passed Polygraph, Medical, Psych, and Hired     Job/Career Fair   \n",
       "2             Disqualified/Withdrew/Incomplete               Other   \n",
       "3             Disqualified/Withdrew/Incomplete     Company Website   \n",
       "4             Disqualified/Withdrew/Incomplete  Internet/Job Board   \n",
       "\n",
       "  Applicant_Apply_Method                Entry_Date  \\\n",
       "0                 Mobile  2018-10-29T23:43:00.000Z   \n",
       "1                    Web  2017-05-08T15:05:00.000Z   \n",
       "2                    Web  2018-10-31T06:36:00.000Z   \n",
       "3                    Web  2018-11-05T13:28:00.000Z   \n",
       "4                 Mobile  2018-11-06T14:00:00.000Z   \n",
       "\n",
       "                                           Ethnicity Gender  \\\n",
       "0                     White (Not Hispanic or Latino)   Male   \n",
       "1                     White (Not Hispanic or Latino)   Male   \n",
       "2                     White (Not Hispanic or Latino)   Male   \n",
       "3                     White (Not Hispanic or Latino)   Male   \n",
       "4  Black or African American (Not Hispanic or Lat...   Male   \n",
       "\n",
       "                      EEO_Veteran_Status__Pre_Offer_        Cycle  ObjectId  \n",
       "0  I IDENTIFY AS ONE OR MORE OF THE CLASSIFICATIO...  Summer 2019         1  \n",
       "1  I IDENTIFY AS ONE OR MORE OF THE CLASSIFICATIO...    Fall 2017         2  \n",
       "2  I IDENTIFY AS ONE OR MORE OF THE CLASSIFICATIO...  Summer 2019         3  \n",
       "3  I IDENTIFY AS ONE OR MORE OF THE CLASSIFICATIO...  Summer 2019         4  \n",
       "4  I IDENTIFY AS ONE OR MORE OF THE CLASSIFICATIO...  Summer 2019         5  "
      ]
     },
     "execution_count": 3,
     "metadata": {},
     "output_type": "execute_result"
    }
   ],
   "source": [
    "df.head()"
   ]
  },
  {
   "cell_type": "code",
   "execution_count": 4,
   "metadata": {},
   "outputs": [
    {
     "data": {
      "text/plain": [
       "White (Not Hispanic or Latino)                                        955\n",
       "Black or African American (Not Hispanic or Latino)                    280\n",
       "Hispanic or Latino                                                    128\n",
       "Two or More Races (Not Hispanic or Latino)                             62\n",
       "Prefer not to answer                                                   23\n",
       "Asian (Not Hispanic or Latino)                                         20\n",
       "American Indian or Alaska Native (Not Hispanic or Latino)               7\n",
       "Native Hawaiian or Other Pacific Islander (Not Hispanic or Latino)      2\n",
       "Unknown                                                                 1\n",
       "Name: Ethnicity, dtype: int64"
      ]
     },
     "execution_count": 4,
     "metadata": {},
     "output_type": "execute_result"
    }
   ],
   "source": [
    "df['Ethnicity'].value_counts()"
   ]
  },
  {
   "cell_type": "code",
   "execution_count": 125,
   "metadata": {},
   "outputs": [
    {
     "data": {
      "text/plain": [
       "0.25372124492557513"
      ]
     },
     "execution_count": 125,
     "metadata": {},
     "output_type": "execute_result"
    }
   ],
   "source": [
    "# a large quantity of applications(25%) don't state the ethnicity of the applicant\n",
    "np.sum(df['Ethnicity'].isna()) / df['Ethnicity'].count()"
   ]
  },
  {
   "cell_type": "code",
   "execution_count": 4,
   "metadata": {},
   "outputs": [
    {
     "data": {
      "text/plain": [
       "0.6075778078484438"
      ]
     },
     "execution_count": 4,
     "metadata": {},
     "output_type": "execute_result"
    }
   ],
   "source": [
    "# what percent of the applicants are non-white?\n",
    "(np.sum(df['Ethnicity'] != 'White (Not Hispanic or Latino)') / df['Ethnicity'].count())"
   ]
  },
  {
   "cell_type": "code",
   "execution_count": 5,
   "metadata": {},
   "outputs": [
    {
     "data": {
      "text/plain": [
       "0.18944519621109607"
      ]
     },
     "execution_count": 5,
     "metadata": {},
     "output_type": "execute_result"
    }
   ],
   "source": [
    "# what percent of applicants are black?\n",
    "(np.sum(df['Ethnicity'] == 'Black or African American (Not Hispanic or Latino)') / df['Ethnicity'].count())"
   ]
  },
  {
   "cell_type": "code",
   "execution_count": 6,
   "metadata": {},
   "outputs": [
    {
     "data": {
      "text/plain": [
       "South Bend      335\n",
       "Mishawaka       133\n",
       "Elkhart          73\n",
       "Chicago          67\n",
       "Indianapolis     40\n",
       "Name: Applicant_City, dtype: int64"
      ]
     },
     "execution_count": 6,
     "metadata": {},
     "output_type": "execute_result"
    }
   ],
   "source": [
    "# which cities are applicants most likely apply from?\n",
    "df['Applicant_City'].value_counts().head()"
   ]
  },
  {
   "cell_type": "code",
   "execution_count": 9,
   "metadata": {},
   "outputs": [
    {
     "data": {
      "text/plain": [
       "AP - Incomplete                          1022\n",
       "HM - No Show Fitness (Police)             485\n",
       "HM - Reviewed Disqualified (Police)        62\n",
       "HR - Withdrew                              51\n",
       "HM - Written Exam Fail (Police)            26\n",
       "HM - Fitness Test Info Sent (Police)       26\n",
       "HM - Fitness Test Fail (Police)            24\n",
       "Hired                                      24\n",
       "HM - Personal Interview Fail (Police)      23\n",
       "HM - Oral Board Fail (Police)              21\n",
       "AP - Qualified (emailed)                   17\n",
       "HM - Background Fail (Police)              15\n",
       "OF - Withdrawn                             13\n",
       "AP - Not Qualified                         12\n",
       "HM - No Show Written (Police)              11\n",
       "HM - Polygraph Fail (Police)               11\n",
       "HR - Unable to contact                      3\n",
       "INTV - Withdrew                             3\n",
       "HM - Personal Interview Pass (Police)       2\n",
       "HM - Written Exam Pass (Police)             1\n",
       "VF - Disqualified                           1\n",
       "Name: Applicant_Status, dtype: int64"
      ]
     },
     "execution_count": 9,
     "metadata": {},
     "output_type": "execute_result"
    }
   ],
   "source": [
    "df['Applicant_Status'].value_counts()"
   ]
  },
  {
   "cell_type": "code",
   "execution_count": 10,
   "metadata": {},
   "outputs": [
    {
     "data": {
      "text/plain": [
       "Disqualified/Withdrew/Incomplete               1090\n",
       "Submitted Application                           605\n",
       "Completed Written Test                           26\n",
       "Took Physical Test                               24\n",
       "Passed Polygraph, Medical, Psych, and Hired      24\n",
       "Completed Personal                               23\n",
       "Completed Interview                              21\n",
       "Passed Interview                                 15\n",
       "Passed Background                                11\n",
       "Passed Physical Test                             11\n",
       "Passed Personal                                   2\n",
       "Passed Written Test                               1\n",
       "Name: Last_Hiring_Stage, dtype: int64"
      ]
     },
     "execution_count": 10,
     "metadata": {},
     "output_type": "execute_result"
    }
   ],
   "source": [
    "df['Last_Hiring_Stage'].value_counts()"
   ]
  },
  {
   "cell_type": "code",
   "execution_count": 12,
   "metadata": {},
   "outputs": [
    {
     "data": {
      "text/plain": [
       "White (Not Hispanic or Latino)                        20\n",
       "Black or African American (Not Hispanic or Latino)     2\n",
       "Hispanic or Latino                                     1\n",
       "Name: Ethnicity, dtype: int64"
      ]
     },
     "execution_count": 12,
     "metadata": {},
     "output_type": "execute_result"
    }
   ],
   "source": [
    "# for applicants that have been hired, what are their ethnicities?\n",
    "df[df['Applicant_Status'] == 'Hired']['Ethnicity'].value_counts()"
   ]
  },
  {
   "cell_type": "code",
   "execution_count": 13,
   "metadata": {},
   "outputs": [
    {
     "data": {
      "text/plain": [
       "Summer 2018    441\n",
       "Spring 2018    379\n",
       "Fall 2017      348\n",
       "Spring 2019    310\n",
       "Summer 2019    253\n",
       "Summer 2017    122\n",
       "Name: Cycle, dtype: int64"
      ]
     },
     "execution_count": 13,
     "metadata": {},
     "output_type": "execute_result"
    }
   ],
   "source": [
    "# how many hiring cycles has their been?\n",
    "df['Cycle'].value_counts()"
   ]
  },
  {
   "cell_type": "code",
   "execution_count": 16,
   "metadata": {},
   "outputs": [
    {
     "data": {
      "text/plain": [
       "Disqualified/Withdrew/Incomplete               1090\n",
       "Submitted Application                           605\n",
       "Completed Written Test                           26\n",
       "Took Physical Test                               24\n",
       "Passed Polygraph, Medical, Psych, and Hired      24\n",
       "Completed Personal                               23\n",
       "Completed Interview                              21\n",
       "Passed Interview                                 15\n",
       "Passed Background                                11\n",
       "Passed Physical Test                             11\n",
       "Passed Personal                                   2\n",
       "Passed Written Test                               1\n",
       "Name: Last_Hiring_Stage, dtype: int64"
      ]
     },
     "execution_count": 16,
     "metadata": {},
     "output_type": "execute_result"
    }
   ],
   "source": [
    "# for everyone who isn't white, what is their last hiring stage?\n",
    "\n",
    "df[df['Ethnicity'] != 'white']['Last_Hiring_Stage'].value_counts()\n",
    "\n",
    "# df['Last_Hiring_Stage'].value_counts()"
   ]
  },
  {
   "cell_type": "code",
   "execution_count": 53,
   "metadata": {},
   "outputs": [],
   "source": [
    "# the below doesn't work\n",
    "# this article helped me figure it out https://www.dataquest.io/blog/settingwithcopywarning/\n",
    "# df[df['Cycle'].str.contains('2017')].loc[:,'Year'] = 2017\n",
    "\n",
    "# this worked\n",
    "df.loc[df['Cycle'].str.contains('2017'), 'Year'] = 2017\n",
    "df.loc[df['Cycle'].str.contains('2018'), 'Year'] = 2018\n",
    "df.loc[df['Cycle'].str.contains('2019'), 'Year'] = 2019"
   ]
  },
  {
   "cell_type": "code",
   "execution_count": 59,
   "metadata": {},
   "outputs": [],
   "source": [
    "# change year to int data type\n",
    "df['Year'] = df['Year'].astype(int)"
   ]
  },
  {
   "cell_type": "code",
   "execution_count": 62,
   "metadata": {},
   "outputs": [
    {
     "data": {
      "text/plain": [
       "2018    820\n",
       "2019    563\n",
       "2017    470\n",
       "Name: Year, dtype: int64"
      ]
     },
     "execution_count": 62,
     "metadata": {},
     "output_type": "execute_result"
    }
   ],
   "source": [
    "# how many applicants each year\n",
    "df['Year'].value_counts()"
   ]
  }
 ],
 "metadata": {
  "kernelspec": {
   "display_name": "Python 3",
   "language": "python",
   "name": "python3"
  },
  "language_info": {
   "codemirror_mode": {
    "name": "ipython",
    "version": 3
   },
   "file_extension": ".py",
   "mimetype": "text/x-python",
   "name": "python",
   "nbconvert_exporter": "python",
   "pygments_lexer": "ipython3",
   "version": "3.7.1"
  }
 },
 "nbformat": 4,
 "nbformat_minor": 2
}
